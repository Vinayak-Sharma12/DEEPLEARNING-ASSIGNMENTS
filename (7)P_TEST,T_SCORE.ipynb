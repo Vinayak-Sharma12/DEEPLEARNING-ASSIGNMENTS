{
  "nbformat": 4,
  "nbformat_minor": 0,
  "metadata": {
    "colab": {
      "provenance": [],
      "authorship_tag": "ABX9TyNAaPeJHpmc0ryy5Txut13S",
      "include_colab_link": true
    },
    "kernelspec": {
      "name": "python3",
      "display_name": "Python 3"
    },
    "language_info": {
      "name": "python"
    }
  },
  "cells": [
    {
      "cell_type": "markdown",
      "metadata": {
        "id": "view-in-github",
        "colab_type": "text"
      },
      "source": [
        "<a href=\"https://colab.research.google.com/github/Vinayak-Sharma12/DEEPLEARNING-ASSIGNMENTS/blob/main/(7)P_TEST%2CT_SCORE.ipynb\" target=\"_parent\"><img src=\"https://colab.research.google.com/assets/colab-badge.svg\" alt=\"Open In Colab\"/></a>"
      ]
    },
    {
      "cell_type": "markdown",
      "source": [
        "# **P Value TEST**"
      ],
      "metadata": {
        "id": "FVj-ZJrSa7jL"
      }
    },
    {
      "cell_type": "markdown",
      "source": [
        " The P-value test and Principal Component Analysis (PCA) are two different approaches for dimensionality reduction or feature selection.\n",
        "\n",
        "The P-value in regression analysis measures the statistical significance of each feature in predicting the target variable. It helps determine whether the effect of a particular feature is statistically different from zero.\n",
        "\n"
      ],
      "metadata": {
        "id": "liBlmDZ1aKGv"
      }
    },
    {
      "cell_type": "markdown",
      "source": [
        "The P-value tests the null hypothesis that the coefficient of the feature is zero (no effect). If the p-value is small (typically less than 0.05), we reject the null hypothesis and conclude that the feature has a statistically significant effect on the target variable.\n"
      ],
      "metadata": {
        "id": "-JXkh4aGalxJ"
      }
    },
    {
      "cell_type": "markdown",
      "source": [
        " If the P-value for a feature is large (greater than 0.05), it implies the feature may not be useful for predicting the target."
      ],
      "metadata": {
        "id": "hLjHcK12a2fE"
      }
    },
    {
      "cell_type": "markdown",
      "source": [
        "#**PCA**\n",
        "is a mathematical procedure that transforms the features into a set of uncorrelated components (called principal components) that capture the maximum variance in the data. These components are linear combinations of the original features."
      ],
      "metadata": {
        "id": "qaiQSrogbNn3"
      }
    },
    {
      "cell_type": "markdown",
      "source": [
        "PCA reduces the number of dimensions (features) by transforming them into principal components, but it does not consider the relationship between the features and the target variable. Instead, it focuses purely on capturing variance in the data."
      ],
      "metadata": {
        "id": "8G4eTt25bi9c"
      }
    },
    {
      "cell_type": "markdown",
      "source": [
        "Unlike p-value, PCA does not remove features. Instead, it combines the features into a smaller set of principal components. These components are linear combinations of the original features and may not be easily interpretable."
      ],
      "metadata": {
        "id": "zthw3jDWb2EJ"
      }
    },
    {
      "cell_type": "markdown",
      "source": [
        "# **When to Use PCA and When to use P-test?**"
      ],
      "metadata": {
        "id": "bJ9QAqpRb5F9"
      }
    },
    {
      "cell_type": "markdown",
      "source": [
        "When to Use P-Test\n",
        "\n",
        " 1.You want to understand which individual features are important for predicting the target variable.\n",
        "\n",
        "2.You are working with a regression model and want to remove irrelevant features based on statistical significance.\n",
        "\n",
        "3.The features are not highly correlated."
      ],
      "metadata": {
        "id": "XMt514ULcNnD"
      }
    },
    {
      "cell_type": "markdown",
      "source": [
        "When to Use PCA\n",
        "1.Your dataset is high-dimensional, and you want to reduce the number of features while retaining the maximum variance in the data.\n",
        "2.Your features are highly correlated, and you need to remove redundancy in the data.\n"
      ],
      "metadata": {
        "id": "pZhXieQJchkk"
      }
    },
    {
      "cell_type": "markdown",
      "source": [
        "# **CODE**"
      ],
      "metadata": {
        "id": "0LV8CMFVc3Sj"
      }
    },
    {
      "cell_type": "code",
      "source": [
        "# Import necessary libraries\n",
        "import numpy as np\n",
        "import pandas as pd\n",
        "import statsmodels.api as sm\n",
        "from sklearn.datasets import fetch_california_housing\n",
        "from sklearn.model_selection import train_test_split\n",
        "from sklearn.preprocessing import StandardScaler\n",
        "import seaborn as sns\n",
        "import matplotlib.pyplot as plt\n",
        "\n",
        "# Load the California Housing Dataset\n",
        "california = fetch_california_housing()\n",
        "df = pd.DataFrame(california.data, columns=california.feature_names)\n",
        "df['MedHouseVal'] = california.target  # Adding target variable 'MedHouseVal' (Median House Value)\n",
        "\n",
        "# Display the first few rows of the dataset\n",
        "df.head()\n",
        "\n"
      ],
      "metadata": {
        "colab": {
          "base_uri": "https://localhost:8080/",
          "height": 206
        },
        "id": "08IcleD2c6OT",
        "outputId": "ce1c2631-171e-46af-c270-87c90a8d136b"
      },
      "execution_count": 7,
      "outputs": [
        {
          "output_type": "execute_result",
          "data": {
            "text/plain": [
              "   MedInc  HouseAge  AveRooms  AveBedrms  Population  AveOccup  Latitude  \\\n",
              "0  8.3252      41.0  6.984127   1.023810       322.0  2.555556     37.88   \n",
              "1  8.3014      21.0  6.238137   0.971880      2401.0  2.109842     37.86   \n",
              "2  7.2574      52.0  8.288136   1.073446       496.0  2.802260     37.85   \n",
              "3  5.6431      52.0  5.817352   1.073059       558.0  2.547945     37.85   \n",
              "4  3.8462      52.0  6.281853   1.081081       565.0  2.181467     37.85   \n",
              "\n",
              "   Longitude  MedHouseVal  \n",
              "0    -122.23        4.526  \n",
              "1    -122.22        3.585  \n",
              "2    -122.24        3.521  \n",
              "3    -122.25        3.413  \n",
              "4    -122.25        3.422  "
            ],
            "text/html": [
              "\n",
              "  <div id=\"df-f0f47d2d-bd7d-4321-a1d1-87932fe39851\" class=\"colab-df-container\">\n",
              "    <div>\n",
              "<style scoped>\n",
              "    .dataframe tbody tr th:only-of-type {\n",
              "        vertical-align: middle;\n",
              "    }\n",
              "\n",
              "    .dataframe tbody tr th {\n",
              "        vertical-align: top;\n",
              "    }\n",
              "\n",
              "    .dataframe thead th {\n",
              "        text-align: right;\n",
              "    }\n",
              "</style>\n",
              "<table border=\"1\" class=\"dataframe\">\n",
              "  <thead>\n",
              "    <tr style=\"text-align: right;\">\n",
              "      <th></th>\n",
              "      <th>MedInc</th>\n",
              "      <th>HouseAge</th>\n",
              "      <th>AveRooms</th>\n",
              "      <th>AveBedrms</th>\n",
              "      <th>Population</th>\n",
              "      <th>AveOccup</th>\n",
              "      <th>Latitude</th>\n",
              "      <th>Longitude</th>\n",
              "      <th>MedHouseVal</th>\n",
              "    </tr>\n",
              "  </thead>\n",
              "  <tbody>\n",
              "    <tr>\n",
              "      <th>0</th>\n",
              "      <td>8.3252</td>\n",
              "      <td>41.0</td>\n",
              "      <td>6.984127</td>\n",
              "      <td>1.023810</td>\n",
              "      <td>322.0</td>\n",
              "      <td>2.555556</td>\n",
              "      <td>37.88</td>\n",
              "      <td>-122.23</td>\n",
              "      <td>4.526</td>\n",
              "    </tr>\n",
              "    <tr>\n",
              "      <th>1</th>\n",
              "      <td>8.3014</td>\n",
              "      <td>21.0</td>\n",
              "      <td>6.238137</td>\n",
              "      <td>0.971880</td>\n",
              "      <td>2401.0</td>\n",
              "      <td>2.109842</td>\n",
              "      <td>37.86</td>\n",
              "      <td>-122.22</td>\n",
              "      <td>3.585</td>\n",
              "    </tr>\n",
              "    <tr>\n",
              "      <th>2</th>\n",
              "      <td>7.2574</td>\n",
              "      <td>52.0</td>\n",
              "      <td>8.288136</td>\n",
              "      <td>1.073446</td>\n",
              "      <td>496.0</td>\n",
              "      <td>2.802260</td>\n",
              "      <td>37.85</td>\n",
              "      <td>-122.24</td>\n",
              "      <td>3.521</td>\n",
              "    </tr>\n",
              "    <tr>\n",
              "      <th>3</th>\n",
              "      <td>5.6431</td>\n",
              "      <td>52.0</td>\n",
              "      <td>5.817352</td>\n",
              "      <td>1.073059</td>\n",
              "      <td>558.0</td>\n",
              "      <td>2.547945</td>\n",
              "      <td>37.85</td>\n",
              "      <td>-122.25</td>\n",
              "      <td>3.413</td>\n",
              "    </tr>\n",
              "    <tr>\n",
              "      <th>4</th>\n",
              "      <td>3.8462</td>\n",
              "      <td>52.0</td>\n",
              "      <td>6.281853</td>\n",
              "      <td>1.081081</td>\n",
              "      <td>565.0</td>\n",
              "      <td>2.181467</td>\n",
              "      <td>37.85</td>\n",
              "      <td>-122.25</td>\n",
              "      <td>3.422</td>\n",
              "    </tr>\n",
              "  </tbody>\n",
              "</table>\n",
              "</div>\n",
              "    <div class=\"colab-df-buttons\">\n",
              "\n",
              "  <div class=\"colab-df-container\">\n",
              "    <button class=\"colab-df-convert\" onclick=\"convertToInteractive('df-f0f47d2d-bd7d-4321-a1d1-87932fe39851')\"\n",
              "            title=\"Convert this dataframe to an interactive table.\"\n",
              "            style=\"display:none;\">\n",
              "\n",
              "  <svg xmlns=\"http://www.w3.org/2000/svg\" height=\"24px\" viewBox=\"0 -960 960 960\">\n",
              "    <path d=\"M120-120v-720h720v720H120Zm60-500h600v-160H180v160Zm220 220h160v-160H400v160Zm0 220h160v-160H400v160ZM180-400h160v-160H180v160Zm440 0h160v-160H620v160ZM180-180h160v-160H180v160Zm440 0h160v-160H620v160Z\"/>\n",
              "  </svg>\n",
              "    </button>\n",
              "\n",
              "  <style>\n",
              "    .colab-df-container {\n",
              "      display:flex;\n",
              "      gap: 12px;\n",
              "    }\n",
              "\n",
              "    .colab-df-convert {\n",
              "      background-color: #E8F0FE;\n",
              "      border: none;\n",
              "      border-radius: 50%;\n",
              "      cursor: pointer;\n",
              "      display: none;\n",
              "      fill: #1967D2;\n",
              "      height: 32px;\n",
              "      padding: 0 0 0 0;\n",
              "      width: 32px;\n",
              "    }\n",
              "\n",
              "    .colab-df-convert:hover {\n",
              "      background-color: #E2EBFA;\n",
              "      box-shadow: 0px 1px 2px rgba(60, 64, 67, 0.3), 0px 1px 3px 1px rgba(60, 64, 67, 0.15);\n",
              "      fill: #174EA6;\n",
              "    }\n",
              "\n",
              "    .colab-df-buttons div {\n",
              "      margin-bottom: 4px;\n",
              "    }\n",
              "\n",
              "    [theme=dark] .colab-df-convert {\n",
              "      background-color: #3B4455;\n",
              "      fill: #D2E3FC;\n",
              "    }\n",
              "\n",
              "    [theme=dark] .colab-df-convert:hover {\n",
              "      background-color: #434B5C;\n",
              "      box-shadow: 0px 1px 3px 1px rgba(0, 0, 0, 0.15);\n",
              "      filter: drop-shadow(0px 1px 2px rgba(0, 0, 0, 0.3));\n",
              "      fill: #FFFFFF;\n",
              "    }\n",
              "  </style>\n",
              "\n",
              "    <script>\n",
              "      const buttonEl =\n",
              "        document.querySelector('#df-f0f47d2d-bd7d-4321-a1d1-87932fe39851 button.colab-df-convert');\n",
              "      buttonEl.style.display =\n",
              "        google.colab.kernel.accessAllowed ? 'block' : 'none';\n",
              "\n",
              "      async function convertToInteractive(key) {\n",
              "        const element = document.querySelector('#df-f0f47d2d-bd7d-4321-a1d1-87932fe39851');\n",
              "        const dataTable =\n",
              "          await google.colab.kernel.invokeFunction('convertToInteractive',\n",
              "                                                    [key], {});\n",
              "        if (!dataTable) return;\n",
              "\n",
              "        const docLinkHtml = 'Like what you see? Visit the ' +\n",
              "          '<a target=\"_blank\" href=https://colab.research.google.com/notebooks/data_table.ipynb>data table notebook</a>'\n",
              "          + ' to learn more about interactive tables.';\n",
              "        element.innerHTML = '';\n",
              "        dataTable['output_type'] = 'display_data';\n",
              "        await google.colab.output.renderOutput(dataTable, element);\n",
              "        const docLink = document.createElement('div');\n",
              "        docLink.innerHTML = docLinkHtml;\n",
              "        element.appendChild(docLink);\n",
              "      }\n",
              "    </script>\n",
              "  </div>\n",
              "\n",
              "\n",
              "<div id=\"df-f8f5d1c7-fb58-46c2-b747-0e27b88575f9\">\n",
              "  <button class=\"colab-df-quickchart\" onclick=\"quickchart('df-f8f5d1c7-fb58-46c2-b747-0e27b88575f9')\"\n",
              "            title=\"Suggest charts\"\n",
              "            style=\"display:none;\">\n",
              "\n",
              "<svg xmlns=\"http://www.w3.org/2000/svg\" height=\"24px\"viewBox=\"0 0 24 24\"\n",
              "     width=\"24px\">\n",
              "    <g>\n",
              "        <path d=\"M19 3H5c-1.1 0-2 .9-2 2v14c0 1.1.9 2 2 2h14c1.1 0 2-.9 2-2V5c0-1.1-.9-2-2-2zM9 17H7v-7h2v7zm4 0h-2V7h2v10zm4 0h-2v-4h2v4z\"/>\n",
              "    </g>\n",
              "</svg>\n",
              "  </button>\n",
              "\n",
              "<style>\n",
              "  .colab-df-quickchart {\n",
              "      --bg-color: #E8F0FE;\n",
              "      --fill-color: #1967D2;\n",
              "      --hover-bg-color: #E2EBFA;\n",
              "      --hover-fill-color: #174EA6;\n",
              "      --disabled-fill-color: #AAA;\n",
              "      --disabled-bg-color: #DDD;\n",
              "  }\n",
              "\n",
              "  [theme=dark] .colab-df-quickchart {\n",
              "      --bg-color: #3B4455;\n",
              "      --fill-color: #D2E3FC;\n",
              "      --hover-bg-color: #434B5C;\n",
              "      --hover-fill-color: #FFFFFF;\n",
              "      --disabled-bg-color: #3B4455;\n",
              "      --disabled-fill-color: #666;\n",
              "  }\n",
              "\n",
              "  .colab-df-quickchart {\n",
              "    background-color: var(--bg-color);\n",
              "    border: none;\n",
              "    border-radius: 50%;\n",
              "    cursor: pointer;\n",
              "    display: none;\n",
              "    fill: var(--fill-color);\n",
              "    height: 32px;\n",
              "    padding: 0;\n",
              "    width: 32px;\n",
              "  }\n",
              "\n",
              "  .colab-df-quickchart:hover {\n",
              "    background-color: var(--hover-bg-color);\n",
              "    box-shadow: 0 1px 2px rgba(60, 64, 67, 0.3), 0 1px 3px 1px rgba(60, 64, 67, 0.15);\n",
              "    fill: var(--button-hover-fill-color);\n",
              "  }\n",
              "\n",
              "  .colab-df-quickchart-complete:disabled,\n",
              "  .colab-df-quickchart-complete:disabled:hover {\n",
              "    background-color: var(--disabled-bg-color);\n",
              "    fill: var(--disabled-fill-color);\n",
              "    box-shadow: none;\n",
              "  }\n",
              "\n",
              "  .colab-df-spinner {\n",
              "    border: 2px solid var(--fill-color);\n",
              "    border-color: transparent;\n",
              "    border-bottom-color: var(--fill-color);\n",
              "    animation:\n",
              "      spin 1s steps(1) infinite;\n",
              "  }\n",
              "\n",
              "  @keyframes spin {\n",
              "    0% {\n",
              "      border-color: transparent;\n",
              "      border-bottom-color: var(--fill-color);\n",
              "      border-left-color: var(--fill-color);\n",
              "    }\n",
              "    20% {\n",
              "      border-color: transparent;\n",
              "      border-left-color: var(--fill-color);\n",
              "      border-top-color: var(--fill-color);\n",
              "    }\n",
              "    30% {\n",
              "      border-color: transparent;\n",
              "      border-left-color: var(--fill-color);\n",
              "      border-top-color: var(--fill-color);\n",
              "      border-right-color: var(--fill-color);\n",
              "    }\n",
              "    40% {\n",
              "      border-color: transparent;\n",
              "      border-right-color: var(--fill-color);\n",
              "      border-top-color: var(--fill-color);\n",
              "    }\n",
              "    60% {\n",
              "      border-color: transparent;\n",
              "      border-right-color: var(--fill-color);\n",
              "    }\n",
              "    80% {\n",
              "      border-color: transparent;\n",
              "      border-right-color: var(--fill-color);\n",
              "      border-bottom-color: var(--fill-color);\n",
              "    }\n",
              "    90% {\n",
              "      border-color: transparent;\n",
              "      border-bottom-color: var(--fill-color);\n",
              "    }\n",
              "  }\n",
              "</style>\n",
              "\n",
              "  <script>\n",
              "    async function quickchart(key) {\n",
              "      const quickchartButtonEl =\n",
              "        document.querySelector('#' + key + ' button');\n",
              "      quickchartButtonEl.disabled = true;  // To prevent multiple clicks.\n",
              "      quickchartButtonEl.classList.add('colab-df-spinner');\n",
              "      try {\n",
              "        const charts = await google.colab.kernel.invokeFunction(\n",
              "            'suggestCharts', [key], {});\n",
              "      } catch (error) {\n",
              "        console.error('Error during call to suggestCharts:', error);\n",
              "      }\n",
              "      quickchartButtonEl.classList.remove('colab-df-spinner');\n",
              "      quickchartButtonEl.classList.add('colab-df-quickchart-complete');\n",
              "    }\n",
              "    (() => {\n",
              "      let quickchartButtonEl =\n",
              "        document.querySelector('#df-f8f5d1c7-fb58-46c2-b747-0e27b88575f9 button');\n",
              "      quickchartButtonEl.style.display =\n",
              "        google.colab.kernel.accessAllowed ? 'block' : 'none';\n",
              "    })();\n",
              "  </script>\n",
              "</div>\n",
              "\n",
              "    </div>\n",
              "  </div>\n"
            ],
            "application/vnd.google.colaboratory.intrinsic+json": {
              "type": "dataframe",
              "variable_name": "df",
              "summary": "{\n  \"name\": \"df\",\n  \"rows\": 20640,\n  \"fields\": [\n    {\n      \"column\": \"MedInc\",\n      \"properties\": {\n        \"dtype\": \"number\",\n        \"std\": 1.8998217179452688,\n        \"min\": 0.4999,\n        \"max\": 15.0001,\n        \"num_unique_values\": 12928,\n        \"samples\": [\n          5.0286,\n          2.0433,\n          6.1228\n        ],\n        \"semantic_type\": \"\",\n        \"description\": \"\"\n      }\n    },\n    {\n      \"column\": \"HouseAge\",\n      \"properties\": {\n        \"dtype\": \"number\",\n        \"std\": 12.58555761211165,\n        \"min\": 1.0,\n        \"max\": 52.0,\n        \"num_unique_values\": 52,\n        \"samples\": [\n          35.0,\n          25.0,\n          7.0\n        ],\n        \"semantic_type\": \"\",\n        \"description\": \"\"\n      }\n    },\n    {\n      \"column\": \"AveRooms\",\n      \"properties\": {\n        \"dtype\": \"number\",\n        \"std\": 2.4741731394243187,\n        \"min\": 0.8461538461538461,\n        \"max\": 141.9090909090909,\n        \"num_unique_values\": 19392,\n        \"samples\": [\n          6.111269614835948,\n          5.912820512820513,\n          5.7924528301886795\n        ],\n        \"semantic_type\": \"\",\n        \"description\": \"\"\n      }\n    },\n    {\n      \"column\": \"AveBedrms\",\n      \"properties\": {\n        \"dtype\": \"number\",\n        \"std\": 0.473910856795466,\n        \"min\": 0.3333333333333333,\n        \"max\": 34.06666666666667,\n        \"num_unique_values\": 14233,\n        \"samples\": [\n          0.9906542056074766,\n          1.112099644128114,\n          1.0398230088495575\n        ],\n        \"semantic_type\": \"\",\n        \"description\": \"\"\n      }\n    },\n    {\n      \"column\": \"Population\",\n      \"properties\": {\n        \"dtype\": \"number\",\n        \"std\": 1132.462121765341,\n        \"min\": 3.0,\n        \"max\": 35682.0,\n        \"num_unique_values\": 3888,\n        \"samples\": [\n          4169.0,\n          636.0,\n          3367.0\n        ],\n        \"semantic_type\": \"\",\n        \"description\": \"\"\n      }\n    },\n    {\n      \"column\": \"AveOccup\",\n      \"properties\": {\n        \"dtype\": \"number\",\n        \"std\": 10.386049562213618,\n        \"min\": 0.6923076923076923,\n        \"max\": 1243.3333333333333,\n        \"num_unique_values\": 18841,\n        \"samples\": [\n          2.6939799331103678,\n          3.559375,\n          3.297082228116711\n        ],\n        \"semantic_type\": \"\",\n        \"description\": \"\"\n      }\n    },\n    {\n      \"column\": \"Latitude\",\n      \"properties\": {\n        \"dtype\": \"number\",\n        \"std\": 2.1359523974571153,\n        \"min\": 32.54,\n        \"max\": 41.95,\n        \"num_unique_values\": 862,\n        \"samples\": [\n          33.7,\n          34.41,\n          38.24\n        ],\n        \"semantic_type\": \"\",\n        \"description\": \"\"\n      }\n    },\n    {\n      \"column\": \"Longitude\",\n      \"properties\": {\n        \"dtype\": \"number\",\n        \"std\": 2.0035317235025882,\n        \"min\": -124.35,\n        \"max\": -114.31,\n        \"num_unique_values\": 844,\n        \"samples\": [\n          -118.63,\n          -119.86,\n          -121.26\n        ],\n        \"semantic_type\": \"\",\n        \"description\": \"\"\n      }\n    },\n    {\n      \"column\": \"MedHouseVal\",\n      \"properties\": {\n        \"dtype\": \"number\",\n        \"std\": 1.1539561587441387,\n        \"min\": 0.14999,\n        \"max\": 5.00001,\n        \"num_unique_values\": 3842,\n        \"samples\": [\n          1.943,\n          3.79,\n          2.301\n        ],\n        \"semantic_type\": \"\",\n        \"description\": \"\"\n      }\n    }\n  ]\n}"
            }
          },
          "metadata": {},
          "execution_count": 7
        }
      ]
    },
    {
      "cell_type": "code",
      "source": [
        "# Split the data into training and testing sets\n",
        "X = df.drop('MedHouseVal', axis=1)  # Independent variables (features)\n",
        "y = df['MedHouseVal']  # Dependent variable (target)\n",
        "X_train, X_test, y_train, y_test = train_test_split(X, y, test_size=0.2, random_state=42)\n",
        "\n"
      ],
      "metadata": {
        "id": "waxlj4wLc96F"
      },
      "execution_count": 8,
      "outputs": []
    },
    {
      "cell_type": "code",
      "source": [
        "# Fit the model using statsmodels for detailed output\n",
        "X_train_sm = sm.add_constant(X_train)  # Adds a constant term (intercept) to the model\n",
        "model = sm.OLS(y_train, X_train_sm).fit()\n",
        "\n",
        "# Print the summary of the model\n",
        "print(model.summary())\n",
        "\n"
      ],
      "metadata": {
        "colab": {
          "base_uri": "https://localhost:8080/"
        },
        "id": "An_JuzVmdU8k",
        "outputId": "544a6ab1-5f5d-432a-a865-5b8443ccb541"
      },
      "execution_count": 9,
      "outputs": [
        {
          "output_type": "stream",
          "name": "stdout",
          "text": [
            "                            OLS Regression Results                            \n",
            "==============================================================================\n",
            "Dep. Variable:            MedHouseVal   R-squared:                       0.613\n",
            "Model:                            OLS   Adj. R-squared:                  0.612\n",
            "Method:                 Least Squares   F-statistic:                     3261.\n",
            "Date:                Sun, 15 Sep 2024   Prob (F-statistic):               0.00\n",
            "Time:                        16:17:17   Log-Likelihood:                -17998.\n",
            "No. Observations:               16512   AIC:                         3.601e+04\n",
            "Df Residuals:                   16503   BIC:                         3.608e+04\n",
            "Df Model:                           8                                         \n",
            "Covariance Type:            nonrobust                                         \n",
            "==============================================================================\n",
            "                 coef    std err          t      P>|t|      [0.025      0.975]\n",
            "------------------------------------------------------------------------------\n",
            "const        -37.0233      0.728    -50.835      0.000     -38.451     -35.596\n",
            "MedInc         0.4487      0.005     95.697      0.000       0.439       0.458\n",
            "HouseAge       0.0097      0.000     19.665      0.000       0.009       0.011\n",
            "AveRooms      -0.1233      0.007    -18.677      0.000      -0.136      -0.110\n",
            "AveBedrms      0.7831      0.033     23.556      0.000       0.718       0.848\n",
            "Population  -2.03e-06   5.25e-06     -0.387      0.699   -1.23e-05    8.26e-06\n",
            "AveOccup      -0.0035      0.000     -7.253      0.000      -0.004      -0.003\n",
            "Latitude      -0.4198      0.008    -52.767      0.000      -0.435      -0.404\n",
            "Longitude     -0.4337      0.008    -52.117      0.000      -0.450      -0.417\n",
            "==============================================================================\n",
            "Omnibus:                     3333.187   Durbin-Watson:                   1.962\n",
            "Prob(Omnibus):                  0.000   Jarque-Bera (JB):             9371.466\n",
            "Skew:                           1.071   Prob(JB):                         0.00\n",
            "Kurtosis:                       6.006   Cond. No.                     2.38e+05\n",
            "==============================================================================\n",
            "\n",
            "Notes:\n",
            "[1] Standard Errors assume that the covariance matrix of the errors is correctly specified.\n",
            "[2] The condition number is large, 2.38e+05. This might indicate that there are\n",
            "strong multicollinearity or other numerical problems.\n"
          ]
        }
      ]
    },
    {
      "cell_type": "code",
      "source": [
        "# Identify features with high p-values (greater than 0.05) and remove them\n",
        "p_values = model.pvalues\n",
        "significant_features = p_values[p_values < 0.05].index  # Keep only significant features\n",
        "\n",
        "# Print significant features\n",
        "print(f\"Significant features: {significant_features}\")\n",
        "\n",
        "# Refit the model with only significant features\n",
        "X_train_significant = X_train[significant_features.drop('const')].copy()\n",
        "X_train_significant_sm = sm.add_constant(X_train_significant)\n",
        "model_reduced = sm.OLS(y_train, X_train_significant_sm).fit()\n",
        "\n",
        "# Print the summary of the reduced model\n",
        "print(model_reduced.summary())\n"
      ],
      "metadata": {
        "colab": {
          "base_uri": "https://localhost:8080/"
        },
        "id": "Py2I3VfWdyM8",
        "outputId": "a6348ea7-01cf-4fd6-d311-5395c5e7cd6f"
      },
      "execution_count": 10,
      "outputs": [
        {
          "output_type": "stream",
          "name": "stdout",
          "text": [
            "Significant features: Index(['const', 'MedInc', 'HouseAge', 'AveRooms', 'AveBedrms', 'AveOccup',\n",
            "       'Latitude', 'Longitude'],\n",
            "      dtype='object')\n",
            "                            OLS Regression Results                            \n",
            "==============================================================================\n",
            "Dep. Variable:            MedHouseVal   R-squared:                       0.613\n",
            "Model:                            OLS   Adj. R-squared:                  0.612\n",
            "Method:                 Least Squares   F-statistic:                     3727.\n",
            "Date:                Sun, 15 Sep 2024   Prob (F-statistic):               0.00\n",
            "Time:                        16:17:30   Log-Likelihood:                -17998.\n",
            "No. Observations:               16512   AIC:                         3.601e+04\n",
            "Df Residuals:                   16504   BIC:                         3.607e+04\n",
            "Df Model:                           7                                         \n",
            "Covariance Type:            nonrobust                                         \n",
            "==============================================================================\n",
            "                 coef    std err          t      P>|t|      [0.025      0.975]\n",
            "------------------------------------------------------------------------------\n",
            "const        -37.0114      0.728    -50.865      0.000     -38.438     -35.585\n",
            "MedInc         0.4487      0.005     95.743      0.000       0.440       0.458\n",
            "HouseAge       0.0098      0.000     20.864      0.000       0.009       0.011\n",
            "AveRooms      -0.1233      0.007    -18.674      0.000      -0.136      -0.110\n",
            "AveBedrms      0.7832      0.033     23.560      0.000       0.718       0.848\n",
            "AveOccup      -0.0035      0.000     -7.312      0.000      -0.004      -0.003\n",
            "Latitude      -0.4195      0.008    -52.993      0.000      -0.435      -0.404\n",
            "Longitude     -0.4335      0.008    -52.229      0.000      -0.450      -0.417\n",
            "==============================================================================\n",
            "Omnibus:                     3338.428   Durbin-Watson:                   1.962\n",
            "Prob(Omnibus):                  0.000   Jarque-Bera (JB):             9390.846\n",
            "Skew:                           1.072   Prob(JB):                         0.00\n",
            "Kurtosis:                       6.009   Cond. No.                     1.67e+04\n",
            "==============================================================================\n",
            "\n",
            "Notes:\n",
            "[1] Standard Errors assume that the covariance matrix of the errors is correctly specified.\n",
            "[2] The condition number is large, 1.67e+04. This might indicate that there are\n",
            "strong multicollinearity or other numerical problems.\n"
          ]
        }
      ]
    },
    {
      "cell_type": "code",
      "source": [
        "# Compare the performance of both models\n",
        "\n",
        "# Full model\n",
        "X_test_sm = sm.add_constant(X_test)\n",
        "y_pred_full = model.predict(X_test_sm)\n",
        "\n",
        "# Reduced model\n",
        "X_test_significant = X_test[significant_features.drop('const')].copy()\n",
        "X_test_significant_sm = sm.add_constant(X_test_significant)\n",
        "y_pred_reduced = model_reduced.predict(X_test_significant_sm)\n",
        "\n",
        "# Calculate R-squared for both models\n",
        "from sklearn.metrics import r2_score\n",
        "r2_full = r2_score(y_test, y_pred_full)\n",
        "r2_reduced = r2_score(y_test, y_pred_reduced)\n",
        "\n",
        "print(f\"R-squared for Full Model: {r2_full}\")\n",
        "print(f\"R-squared for Reduced Model: {r2_reduced}\")\n"
      ],
      "metadata": {
        "colab": {
          "base_uri": "https://localhost:8080/"
        },
        "id": "pxjbXlB-ea8m",
        "outputId": "90d12666-8fd0-43d4-a8fc-338f62b9c867"
      },
      "execution_count": 12,
      "outputs": [
        {
          "output_type": "stream",
          "name": "stdout",
          "text": [
            "R-squared for Full Model: 0.5757877060324513\n",
            "R-squared for Reduced Model: 0.5757407466176085\n"
          ]
        }
      ]
    },
    {
      "cell_type": "code",
      "source": [
        "# Plot residuals to check if they are normally distributed\n",
        "residuals = model_reduced.resid\n",
        "sns.histplot(residuals, kde=True)\n",
        "plt.title('Residual Distribution for Reduced Model')\n",
        "plt.show()\n",
        "\n",
        "# Residuals vs Fitted Values plot to check homoscedasticity\n",
        "sns.residplot(x=model_reduced.fittedvalues, y=model_reduced.resid)\n",
        "plt.xlabel('Fitted Values')\n",
        "plt.ylabel('Residuals')\n",
        "plt.title('Residuals vs Fitted Values')\n",
        "plt.show()\n"
      ],
      "metadata": {
        "colab": {
          "base_uri": "https://localhost:8080/",
          "height": 907
        },
        "id": "jmuxtTPUekFI",
        "outputId": "7504df2b-d249-4470-fe2e-b2c86d15c534"
      },
      "execution_count": 13,
      "outputs": [
        {
          "output_type": "display_data",
          "data": {
            "text/plain": [
              "<Figure size 640x480 with 1 Axes>"
            ],
            "image/png": "[encoded data removed]"
          },
          "metadata": {}
        },
        {
          "output_type": "display_data",
          "data": {
            "text/plain": [
              "<Figure size 640x480 with 1 Axes>"
            ],
            "image/png": "[encoded data removed]"
          },
          "metadata": {}
        }
      ]
    }
  ]
}